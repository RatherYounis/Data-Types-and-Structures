{
  "nbformat": 4,
  "nbformat_minor": 0,
  "metadata": {
    "colab": {
      "provenance": []
    },
    "kernelspec": {
      "name": "python3",
      "display_name": "Python 3"
    },
    "language_info": {
      "name": "python"
    }
  },
  "cells": [
    {
      "cell_type": "code",
      "execution_count": null,
      "metadata": {
        "id": "vUxeLTLAqgTi"
      },
      "outputs": [],
      "source": []
    },
    {
      "cell_type": "markdown",
      "source": [
        "                                   Data Types and Structures"
      ],
      "metadata": {
        "id": "PBj8dJLBIsFH"
      }
    },
    {
      "cell_type": "markdown",
      "source": [
        "1.What are data structures, and why are they important\n",
        "- Data structures define how data is stored and accessed in memory. They range from simple structures like arrays and linked lists to more complex ones like trees, graphs, and hash tables. Each type is optimized for specific tasks and operations.\n",
        "- Why Are Data Structures Important\n",
        "- Efficiency : in Operations\n",
        "Choosing the right data structure can drastically improve the performance of operations.\n",
        "- Optimized Resource Utilization :\n",
        "Efficient data structures help in optimal memory usage and faster processing, which is crucial in environments with limited resources .\n",
        "\n",
        "- Scalability :\n",
        "As applications grow, the ability to handle larger datasets becomes essential. Data structures like trees and graphs enable systems to scale efficiently without compromising performance .\n",
        "\n",
        "- Foundation for Algorithms :\n",
        "Algorithms rely on data structures to function effectively. Understanding the relationship between them allows for the design of optimized solutions to complex problems .\n",
        "\n",
        "- Real-World Applications :\n",
        "From databases and operating systems to artificial intelligence and machine learning, data structures are integral in building systems that are both efficient and reliable .\n",
        "\n",
        "\n"
      ],
      "metadata": {
        "id": "vmbg2RvxI3ri"
      }
    },
    {
      "cell_type": "markdown",
      "source": [
        "2.Explain the difference between mutable and immutable data types with examples\n",
        "- Mutable Data Types: Mutable data types are objects whose state or value can be changed after they are created.\n",
        "-Lists: You can modify, add, or remove elements.\n",
        "my_list = [1, 2, 3]\n",
        "my_list[0] = 10  # Modifies the first element\n",
        "my_list.append(4)  # Adds a new element\n",
        "- Dictionaries: You can change values, add new key-value pairs, or remove them.\n",
        "my_dict = {'a': 1, 'b': 2}\n",
        "my_dict['a'] = 10  # Changes value for key 'a'\n",
        "my_dict['c'] = 3  # Adds a new key-value pair\n",
        "- Sets: You can add or remove elements.\n",
        "my_set = {1, 2, 3}\n",
        "my_set.add(4)  # Adds 4 to the set\n",
        "my_set.remove(2)  # Removes 2 from the set\n",
        "- Key Characteristics:\n",
        "\n",
        "Changes to mutable objects affect all references to that object.\n",
        "\n",
        "They are generally more memory-efficient for large datasets due to their ability to be modified in place\n",
        "\n",
        "- Immutable Data Types :Immutable data types are objects whose state or value cannot be changed after they are created. Any operation that seems to modify them actually creates a new object.\n",
        "-Examples:\n",
        "\n",
        "Strings: Concatenation creates a new string object.\n",
        "my_string = \"Hello\"\n",
        "new_string = my_string + \" World\"  # Creates a new string object\n",
        "- Tuples: You cannot change, add, or remove elements.\n",
        "- Key Characteristics:\n",
        "\n",
        "Changes to immutable objects result in the creation of new objects, leaving the original object unchanged.\n",
        "\n",
        "They are hashable and can be used as keys in dictionaries or elements in sets."
      ],
      "metadata": {
        "id": "Zdx5SzgRJzNM"
      }
    },
    {
      "cell_type": "markdown",
      "source": [
        "3.What are the main differences between lists and tuples in Python\n",
        "- In Python, lists and tuples are both used to store collections of items, but they differ significantly in terms of mutability, performance, and usage scenarios. Here's a detailed comparison\n",
        "- eg  \n",
        "Lists (Mutable)\n",
        "my_list = [1, 2, 3]\n",
        "my_list[0] = 10  # Modifies the first element\n",
        "my_list.append(4)  # Adds 4 to the end\n",
        "print(my_list)  # Output: [10, 2, 3, 4]\n",
        "\n"
      ],
      "metadata": {
        "id": "Afl_AURaLOrB"
      }
    },
    {
      "cell_type": "markdown",
      "source": [
        "4.Describe how dictionaries store data\n",
        "- Key Components of Python Dictionaries\n",
        "- Hash Table: The core structure consists of an array of entries (buckets), each capable of storing a key-value pair.\n",
        "\n",
        "- Hash Function: A hash function computes an index from the key, determining where the key-value pair should be stored in the hash table.\n",
        "\n",
        "- Handling Collisions: When two keys hash to the same index, a collision occurs. Python resolves this using open addressing with quadratic probing, meaning it searches for the next available slot using a quadratic function of the number of collisions.\n",
        "\n",
        "- Dynamic Resizing: To maintain efficient operations, the hash table dynamically resizes. When the number of entries exceeds a certain threshold (typically two-thirds of the current capacity), the table is resized (usually doubled in size), and all existing entries are rehashed and inserted into the new table.\n",
        "-Consider the following Python dictionary:\n",
        "my_dict = {\"apple\": 1, \"banana\": 2, \"cherry\": 3}\n",
        "- Internally, Python computes the hash values for the keys \"apple\", \"banana\", and \"cherry\". Using these hash values, it determines the appropriate indices in the hash table to store the corresponding key-value pairs. If two keys hash to the same index, Python uses quadratic probing to find the next available slot.\n",
        "\n"
      ],
      "metadata": {
        "id": "3Upxx8mSLpWY"
      }
    },
    {
      "cell_type": "markdown",
      "source": [
        "5.Why might you use a set instead of a list in Python\n",
        "- Ensuring Uniqueness\n",
        "\n",
        "Set: Automatically removes duplicate elements.\n",
        "\n",
        "List: Allows duplicates; you'd need to manually remove them.\n",
        "- Faster Membership Testing\n",
        "\n",
        "Set: Offers average-case O(1) time complexity for checking if an element exists.\n",
        "\n",
        "List: Requires O(n) time, as it may need to scan through all elements.\n",
        "- Performing Set Operations\n",
        "\n",
        "Set: Supports mathematical set operations like union, intersection, and difference.\n",
        "\n",
        "List: Does not natively support these operations\n"
      ],
      "metadata": {
        "id": "OGS3FX6TM-2i"
      }
    },
    {
      "cell_type": "markdown",
      "source": [
        "6.What is a string in Python, and how is it different from a list\n",
        "- A string is an ordered sequence of characters enclosed in single (') or double (\") quotes. Strings are immutable, meaning once created, their content cannot be changed.\n",
        "-Eg s = \"Hello, World!\"\n",
        "- Key Characteristics:\n",
        "\n",
        "Immutable: Cannot be modified after creation.Can be indexed and sliced.\n",
        "Supports various string methods like .lower(), .replace(), .split(), etc.\n",
        "- A list is an ordered collection of items enclosed in square brackets ([]). Lists are mutable, allowing modification of their content after creation.\n",
        "- Eg lst = [1, 2, 3, \"apple\"]\n",
        "- Key Characteristics:\n",
        "\n",
        "Mutable: Can be modified (add, remove, or change elements).Can store elements of different data types.\n",
        "Supports list methods like .append(), .remove(), .sort(), etc.\n"
      ],
      "metadata": {
        "id": "CTQjoxCbNSyY"
      }
    },
    {
      "cell_type": "markdown",
      "source": [
        "7. How do tuples ensure data integrity in Python\n",
        "- In Python, tuples are immutable sequences, meaning their contents cannot be altered after creation. This immutability plays a crucial role in ensuring data integrity, especially in scenarios where the preservation of data consistency is paramount.\n",
        "- 1 Prevention of Accidental Modifications\n",
        "\n",
        "once a tuple is created, its elements cannot be changed, added, or removed.\n",
        "- 2 Support for Hashability\n",
        "\n",
        "Tuples can be used as keys in dictionaries or elements in sets because they are hashable.\n",
        "- 3 Ensuring Consistent Data Representation\n",
        "\n",
        "Tuples are ideal for representing fixed collections of heterogeneous data, such as records or coordinates, where the integrity of each element is critical.\n",
        "- 4 Preventing Unintended Side Effects\n",
        "\n",
        "In scenarios where data is passed between functions or modules, using tuples ensures that the data cannot be inadvertently modified, thus preventing unintended side effects and maintaining the integrity of the data across the application."
      ],
      "metadata": {
        "id": "nag7hOTYN6ug"
      }
    },
    {
      "cell_type": "markdown",
      "source": [
        "8.What is a hash table, and how does it relate to dictionaries in Python\n",
        "- A hash table uses a hash function to compute an index (hash code) into an array of buckets or slots, from which the desired value can be found. When a key-value pair is added, the key is hashed, and the resulting hash determines where the pair is stored in the array. During lookup, the key is hashed again to find the corresponding value\n",
        "- Key Operations and Time Complexity\n",
        "Insertion: Adding a key-value pair to the dictionary.\n",
        "\n",
        "Access: Retrieving the value associated with a key.\n",
        "\n",
        "Deletion: Removing a key-value pair from the dictionary."
      ],
      "metadata": {
        "id": "R6DywmqZOpdx"
      }
    },
    {
      "cell_type": "markdown",
      "source": [
        "9.Can lists contain different data types in Python\n",
        "- Yes, in Python, lists can contain elements of different data types. This flexibility allows you to store heterogeneous collections, making lists versatile for various use cases."
      ],
      "metadata": {
        "id": "AGoFobhvPK-_"
      }
    },
    {
      "cell_type": "markdown",
      "source": [
        "10.Explain why strings are immutable in Python\n",
        "- Memory Efficiency :\n",
        "Immutability allows Python to optimize memory usage by reusing string objects.\n",
        "- Thread Safety:\n",
        "Since strings cannot be modified, they are inherently thread-safe.\n",
        "- Hashability:\n",
        "Immutability ensures that the hash value of a string remains constant.\n",
        "- Security and Integrity:\n",
        "Immutable strings prevent accidental or intentional modifications, enhancing data security."
      ],
      "metadata": {
        "id": "VCM25BsYPU4s"
      }
    },
    {
      "cell_type": "markdown",
      "source": [
        "11.What advantages do dictionaries offer over lists for certain tasks\n",
        "- Dictionaries in Python offer several advantages over lists, particularly when you need to associate unique keys with specific values and require efficient data retrieval. Here's an overview of why you might choose a dictionary over a list for certain tasks"
      ],
      "metadata": {
        "id": "bXlwO9X1Py-S"
      }
    },
    {
      "cell_type": "markdown",
      "source": [
        "12.Describe a scenario where using a tuple would be preferable over a list\n",
        "- In Python, tuples are often preferred over lists in scenarios where data integrity, performance, and memory efficiency are critical. Here's a practical example illustrating when to use a tuple instead of a list:\n",
        "- eg # Storing coordinates as a tuple\n",
        "location = (40.7128, -74.0060)  # New York City (latitude, longitude)\n",
        "\n",
        " Attempting to modify the tuple will raise an error\n",
        "location[0] = 41.0  # Uncommenting this line will raise a TypeError\n"
      ],
      "metadata": {
        "id": "Y3JFcH-pP8NT"
      }
    },
    {
      "cell_type": "markdown",
      "source": [
        "13.In Python, sets are designed to store unique elements, meaning they automatically handle duplicate values by removing them. When you attempt to add a duplicate item to a set, Python simply ignores the addition without raising an error.\n",
        "- eg # Creating a set with duplicate values\n",
        "numbers = {1, 2, 2, 3, 4, 4, 5}\n",
        "print(numbers)  # Output: {1, 2, 3, 4, 5}\n"
      ],
      "metadata": {
        "id": "Ds9nQNmmQXqS"
      }
    },
    {
      "cell_type": "markdown",
      "source": [
        "14.How does the “in” keyword work differently for lists and dictionaries\n",
        "- In Python, the in keyword serves to check for membership within various data structures, but its behavior differs between lists and dictionaries due to their underlying implementations.\n",
        "\n"
      ],
      "metadata": {
        "id": "68pAdiWmQhTn"
      }
    },
    {
      "cell_type": "markdown",
      "source": [
        "15.Can you modify the elements of a tuple? Explain why or why not\n",
        "- In Python, tuples are immutable, meaning that once a tuple is created, its elements cannot be changed, added, or removed. This immutability is a fundamental property of tuples, distinguishing them from lists, which are mutable and allow modifications after creation."
      ],
      "metadata": {
        "id": "UC1R83KnQsje"
      }
    },
    {
      "cell_type": "markdown",
      "source": [
        "16.What is a nested dictionary, and give an example of its use case\n",
        "- A nested dictionary is a dictionary where each value can be another dictionary, enabling the representation of multi-level data structures.\n",
        "- eg myfamily = {\n",
        "    \"child1\": {\"name\": \"Emil\", \"year\": 2004},\n",
        "    \"child2\": {\"name\": \"Tobias\", \"year\": 2007},\n",
        "    \"child3\": {\"name\": \"Linus\", \"year\": 2011}\n",
        "}\n"
      ],
      "metadata": {
        "id": "W-aFZe_TQ2oO"
      }
    },
    {
      "cell_type": "markdown",
      "source": [
        "17.Describe the time complexity of accessing elements in a dictionary\n",
        "- In Python, dictionaries are implemented using hash tables, which enable efficient data retrieval. Accessing an element by its key in a dictionary typically has a time complexity of O(1) on average. This means that the time required to retrieve a value does not depend on the size of the dictionary"
      ],
      "metadata": {
        "id": "D5eCqGe8RGBS"
      }
    },
    {
      "cell_type": "markdown",
      "source": [
        "18.In what situations are lists preferred over dictionaries\n",
        "- Maintaining Order of Elements\n",
        "- Index-Based Access\n",
        "- Allowing Duplicate Elements\n",
        "- Simple, Linear Data Storage\n",
        "- Efficient Iteration and Appending"
      ],
      "metadata": {
        "id": "-gLEghBpRQgv"
      }
    },
    {
      "cell_type": "markdown",
      "source": [
        "19.Why are dictionaries considered unordered, and how does that affect data retrieval\n",
        "- In Python, dictionaries are designed to be unordered collections of key-value pairs. This means that the order in which items are inserted into a dictionary is not guaranteed to be preserved when iterating over it. However, starting from Python 3.7, dictionaries maintain the insertion order of items, making them ordered collections. This change ensures that when you iterate over a dictionary, the items are returned in the order they were added.\n",
        "- How Does This Affect Data Retrieval\n",
        "- The unordered nature of dictionaries means that:\n",
        "- No Indexing or Slicing: You cannot access dictionary elements by their position using indices or slices, as you can with lists.\n",
        "- Unpredictable Iteration Order: Before Python 3.7, iterating over a dictionary did not guarantee any specific order of items.\n"
      ],
      "metadata": {
        "id": "QuHh74IcRozv"
      }
    },
    {
      "cell_type": "markdown",
      "source": [
        "20.Explain the difference between a list and a dictionary in terms of data retrieval.\n",
        "-In Python, lists and dictionaries are both versatile data structures, but they differ significantly in how they store and retrieve data. Here's a detailed comparison focusing on data retrieval:\n",
        "- Lists: Indexed Access\n",
        "Structure: Ordered collection of elements.\n",
        "- Access Method: Elements are accessed via their index positions.\n",
        "- Time Complexity:\n",
        "- Access by Index: O(1)\n",
        "- Search for an Element: O(n) in the worst case, as it may require scanning the entire list.\n",
        "- Use Case: Ideal for maintaining an ordered collection where elements are accessed by their position."
      ],
      "metadata": {
        "id": "Fgzsd7ADSAUi"
      }
    },
    {
      "cell_type": "markdown",
      "source": [
        "                       Practical Questions"
      ],
      "metadata": {
        "id": "Gz5TZ8coSWf3"
      }
    },
    {
      "cell_type": "markdown",
      "source": [
        "1 Write a code to create a string with your name and print it"
      ],
      "metadata": {
        "id": "_HdgaxLfSgHs"
      }
    },
    {
      "cell_type": "code",
      "source": [
        "name = \"Your Name\"\n",
        "\n",
        "print(name)"
      ],
      "metadata": {
        "colab": {
          "base_uri": "https://localhost:8080/"
        },
        "id": "jEJkmXvUSjZI",
        "outputId": "4f4576fd-3616-4cbb-ac37-25b4e02d9905"
      },
      "execution_count": 1,
      "outputs": [
        {
          "output_type": "stream",
          "name": "stdout",
          "text": [
            "Your Name\n"
          ]
        }
      ]
    },
    {
      "cell_type": "markdown",
      "source": [
        "2.Write a code to find the length of the string \"Hello World\""
      ],
      "metadata": {
        "id": "nYvuiGajTGG7"
      }
    },
    {
      "cell_type": "code",
      "source": [
        "\n",
        "my_string = \"Hello World\"\n",
        "string_length = len(my_string)\n",
        "print(\"The length of the string is:\", string_length)\n"
      ],
      "metadata": {
        "colab": {
          "base_uri": "https://localhost:8080/"
        },
        "id": "bDxkKVICTN1e",
        "outputId": "31a33747-8389-4ccc-ab46-f4802ce213ac"
      },
      "execution_count": 2,
      "outputs": [
        {
          "output_type": "stream",
          "name": "stdout",
          "text": [
            "The length of the string is: 11\n"
          ]
        }
      ]
    },
    {
      "cell_type": "markdown",
      "source": [
        "3.Write a code to slice the first 3 characters from the string \"Python Programming\""
      ],
      "metadata": {
        "id": "69LHUEp8TdY0"
      }
    },
    {
      "cell_type": "code",
      "source": [
        "text = \"Python Programming\"\n",
        "substring = text[:3]\n",
        "print(substring)\n"
      ],
      "metadata": {
        "colab": {
          "base_uri": "https://localhost:8080/"
        },
        "id": "2vePc75_Tgyo",
        "outputId": "7179518f-55da-4ab8-ff81-e7bb3dd73939"
      },
      "execution_count": 3,
      "outputs": [
        {
          "output_type": "stream",
          "name": "stdout",
          "text": [
            "Pyt\n"
          ]
        }
      ]
    },
    {
      "cell_type": "markdown",
      "source": [
        "4.Write a code to convert the string \"hello\" to uppercase"
      ],
      "metadata": {
        "id": "jCiSrMZVTrca"
      }
    },
    {
      "cell_type": "code",
      "source": [
        "greeting = \"hello\"\n",
        "uppercase_greeting = greeting.upper()\n",
        "print(uppercase_greeting)\n"
      ],
      "metadata": {
        "colab": {
          "base_uri": "https://localhost:8080/"
        },
        "id": "GH4czYcMTuSp",
        "outputId": "e84852bb-6b50-4e2e-c809-c637552b354d"
      },
      "execution_count": 4,
      "outputs": [
        {
          "output_type": "stream",
          "name": "stdout",
          "text": [
            "HELLO\n"
          ]
        }
      ]
    },
    {
      "cell_type": "markdown",
      "source": [
        "5.Write a code to replace the word \"apple\" with \"orange\" in the string \"I like apple\""
      ],
      "metadata": {
        "id": "M8l2lnd7T3C1"
      }
    },
    {
      "cell_type": "code",
      "source": [
        "sentence = \"I like apple\"\n",
        "change_sentence = sentence.replace(\"apple\", \"orange\")\n",
        "print(change_sentence)\n"
      ],
      "metadata": {
        "colab": {
          "base_uri": "https://localhost:8080/"
        },
        "id": "lg0Vlo70T7DY",
        "outputId": "01c996d7-84e1-4c43-beb0-35675332172b"
      },
      "execution_count": 5,
      "outputs": [
        {
          "output_type": "stream",
          "name": "stdout",
          "text": [
            "I like orange\n"
          ]
        }
      ]
    },
    {
      "cell_type": "markdown",
      "source": [
        "6.Write a code to create a list with numbers 1 to 5 and print it\n"
      ],
      "metadata": {
        "id": "c5GQtWBzULxm"
      }
    },
    {
      "cell_type": "code",
      "source": [
        "numbers = [1, 2, 3, 4, 5]\n",
        "print(numbers)\n"
      ],
      "metadata": {
        "colab": {
          "base_uri": "https://localhost:8080/"
        },
        "id": "kHYNozduUPQw",
        "outputId": "28028825-f31d-4428-bcdf-11fcdd0fbf71"
      },
      "execution_count": 6,
      "outputs": [
        {
          "output_type": "stream",
          "name": "stdout",
          "text": [
            "[1, 2, 3, 4, 5]\n"
          ]
        }
      ]
    },
    {
      "cell_type": "markdown",
      "source": [
        "7.Write a code to append the number 10 to the list [1, 2, 3, 4]\n"
      ],
      "metadata": {
        "id": "unJaLYcYUXXw"
      }
    },
    {
      "cell_type": "code",
      "source": [
        "num = [1, 2, 3, 4]\n",
        "num.append(10)\n",
        "print(num)\n",
        "\n"
      ],
      "metadata": {
        "colab": {
          "base_uri": "https://localhost:8080/"
        },
        "id": "EGASVN6yUcDY",
        "outputId": "6175da4b-947b-489b-d5f3-9d738fbc2220"
      },
      "execution_count": 7,
      "outputs": [
        {
          "output_type": "stream",
          "name": "stdout",
          "text": [
            "[1, 2, 3, 4, 10]\n"
          ]
        }
      ]
    },
    {
      "cell_type": "markdown",
      "source": [
        "8.Write a code to remove the number 3 from the list [1, 2, 3, 4, 5]"
      ],
      "metadata": {
        "id": "gXHWEjsGUsuh"
      }
    },
    {
      "cell_type": "code",
      "source": [
        "num = [1,2,3,4,5]\n",
        "num.remove(3)\n",
        "print(num)"
      ],
      "metadata": {
        "colab": {
          "base_uri": "https://localhost:8080/"
        },
        "id": "4E6e2wvmUwCV",
        "outputId": "02f3196c-6e8e-4577-ad87-eac008c0cd2a"
      },
      "execution_count": 8,
      "outputs": [
        {
          "output_type": "stream",
          "name": "stdout",
          "text": [
            "[1, 2, 4, 5]\n"
          ]
        }
      ]
    },
    {
      "cell_type": "markdown",
      "source": [
        "9.Write a code to access the second element in the list ['a', 'b', 'c', 'd']"
      ],
      "metadata": {
        "id": "Mn8Z1xLSU8T7"
      }
    },
    {
      "cell_type": "code",
      "source": [
        "my_list = ['a', 'b', 'c', 'd']\n",
        "second_element = my_list[1]\n",
        "print(\"The second element is:\", second_element)\n"
      ],
      "metadata": {
        "colab": {
          "base_uri": "https://localhost:8080/"
        },
        "id": "J81m0eR1VACi",
        "outputId": "54890d62-1b55-4ee3-b061-779852609372"
      },
      "execution_count": 9,
      "outputs": [
        {
          "output_type": "stream",
          "name": "stdout",
          "text": [
            "The second element is: b\n"
          ]
        }
      ]
    },
    {
      "cell_type": "markdown",
      "source": [
        "10.Write a code to reverse the list [10, 20, 30, 40, 50]"
      ],
      "metadata": {
        "id": "PcnGWQapVVA4"
      }
    },
    {
      "cell_type": "code",
      "source": [
        "numbers = [10, 20, 30, 40, 50]\n",
        "reversed_numbers = numbers[::-1]\n",
        "print(reversed_numbers)\n"
      ],
      "metadata": {
        "colab": {
          "base_uri": "https://localhost:8080/"
        },
        "id": "3KMS3rWzVZf4",
        "outputId": "89467986-46a9-49bd-decd-75be1014d16b"
      },
      "execution_count": 10,
      "outputs": [
        {
          "output_type": "stream",
          "name": "stdout",
          "text": [
            "[50, 40, 30, 20, 10]\n"
          ]
        }
      ]
    },
    {
      "cell_type": "markdown",
      "source": [
        "11.Write a code to create a tuple with the elements 100, 200, 300 and print it."
      ],
      "metadata": {
        "id": "kpz2ZhleVxex"
      }
    },
    {
      "cell_type": "code",
      "source": [
        "my_tuple = (100, 200, 300)\n",
        "print(my_tuple)\n"
      ],
      "metadata": {
        "colab": {
          "base_uri": "https://localhost:8080/"
        },
        "id": "GkQiW8EzV2SP",
        "outputId": "2f44d3f3-e885-4791-af36-9d2d8b8eda1f"
      },
      "execution_count": 11,
      "outputs": [
        {
          "output_type": "stream",
          "name": "stdout",
          "text": [
            "(100, 200, 300)\n"
          ]
        }
      ]
    },
    {
      "cell_type": "markdown",
      "source": [
        "12.Write a code to access the second-to-last element of the tuple ('red', 'green', 'blue', 'yellow')."
      ],
      "metadata": {
        "id": "34tCGrwlWBnB"
      }
    },
    {
      "cell_type": "code",
      "source": [
        "colors = ('red', 'green', 'blue', 'yellow')\n",
        "second_to_last = colors[-2]\n",
        "print(\"The second-to-last element is:\", second_to_last)\n"
      ],
      "metadata": {
        "colab": {
          "base_uri": "https://localhost:8080/"
        },
        "id": "x_K7aTj3WFl5",
        "outputId": "0c494e54-f52b-4eb3-a2d8-80a73613435c"
      },
      "execution_count": 12,
      "outputs": [
        {
          "output_type": "stream",
          "name": "stdout",
          "text": [
            "The second-to-last element is: blue\n"
          ]
        }
      ]
    },
    {
      "cell_type": "markdown",
      "source": [
        "13.Write a code to find the minimum number in the tuple (10, 20, 5, 15)."
      ],
      "metadata": {
        "id": "YFClGM3cWR3o"
      }
    },
    {
      "cell_type": "code",
      "source": [
        "numbers = (10, 20, 5, 15)\n",
        "min_number = min(numbers)\n",
        "print(\"The minimum number in the tuple is:\", min_number)\n"
      ],
      "metadata": {
        "colab": {
          "base_uri": "https://localhost:8080/"
        },
        "id": "_wzzhO62WWWg",
        "outputId": "908191f8-6a18-49c8-9500-5211d5509685"
      },
      "execution_count": 13,
      "outputs": [
        {
          "output_type": "stream",
          "name": "stdout",
          "text": [
            "The minimum number in the tuple is: 5\n"
          ]
        }
      ]
    },
    {
      "cell_type": "markdown",
      "source": [
        "14. Write a code to find the index of the element \"cat\" in the tuple ('dog', 'cat', 'rabbit')."
      ],
      "metadata": {
        "id": "NhHySxbiWkWy"
      }
    },
    {
      "cell_type": "code",
      "source": [
        "animals = ('dog', 'cat', 'rabbit')\n",
        "index_of_cat = animals.index('cat')\n",
        "print(\"The index of 'cat' is:\", index_of_cat)\n"
      ],
      "metadata": {
        "colab": {
          "base_uri": "https://localhost:8080/"
        },
        "id": "9A_-CPneWn11",
        "outputId": "66fb645a-698c-417d-ec96-c7928eb82eb0"
      },
      "execution_count": 14,
      "outputs": [
        {
          "output_type": "stream",
          "name": "stdout",
          "text": [
            "The index of 'cat' is: 1\n"
          ]
        }
      ]
    },
    {
      "cell_type": "markdown",
      "source": [
        "15.Write a code to create a tuple containing three different fruits and check if \"kiwi\" is in it"
      ],
      "metadata": {
        "id": "7fKRGCHsW7ZJ"
      }
    },
    {
      "cell_type": "code",
      "source": [
        "fruits = ('apple', 'banana', 'cherry')\n",
        "if 'kiwi' in fruits:\n",
        "    print(\"Yes, 'kiwi' is in the tuple.\")\n",
        "else:\n",
        "    print(\"No, 'kiwi' is not in the tuple.\")\n"
      ],
      "metadata": {
        "colab": {
          "base_uri": "https://localhost:8080/"
        },
        "id": "aLzQcnXsW-MR",
        "outputId": "6297eed2-4000-4511-a1d0-8b66925d47b4"
      },
      "execution_count": 15,
      "outputs": [
        {
          "output_type": "stream",
          "name": "stdout",
          "text": [
            "No, 'kiwi' is not in the tuple.\n"
          ]
        }
      ]
    },
    {
      "cell_type": "markdown",
      "source": [
        "16.Write a code to create a set with the elements 'a', 'b', 'c' and print it.\n",
        "\n"
      ],
      "metadata": {
        "id": "zjJ-pwhYXJT5"
      }
    },
    {
      "cell_type": "code",
      "source": [
        "my_set = {'a', 'b', 'c'}\n",
        "print(my_set)\n"
      ],
      "metadata": {
        "colab": {
          "base_uri": "https://localhost:8080/"
        },
        "id": "3adhnIddXNEq",
        "outputId": "4cef0e6b-dc53-4ffa-fbb4-059f9c8fe039"
      },
      "execution_count": 16,
      "outputs": [
        {
          "output_type": "stream",
          "name": "stdout",
          "text": [
            "{'c', 'a', 'b'}\n"
          ]
        }
      ]
    },
    {
      "cell_type": "markdown",
      "source": [
        "17. Write a code to clear all elements from the set {1, 2, 3, 4, 5}."
      ],
      "metadata": {
        "id": "puiZS42cXXNy"
      }
    },
    {
      "cell_type": "code",
      "source": [
        "my_set = {1, 2, 3, 4, 5}\n",
        "my_set.clear()\n",
        "print(my_set)\n"
      ],
      "metadata": {
        "colab": {
          "base_uri": "https://localhost:8080/"
        },
        "id": "RagXQI77XZ8h",
        "outputId": "d3cb7e1f-587a-4d1f-8e08-d12d259625a8"
      },
      "execution_count": 17,
      "outputs": [
        {
          "output_type": "stream",
          "name": "stdout",
          "text": [
            "set()\n"
          ]
        }
      ]
    },
    {
      "cell_type": "markdown",
      "source": [
        "18. Write a code to remove the element 4 from the set {1, 2, 3, 4}"
      ],
      "metadata": {
        "id": "RK5k0mKfXz7O"
      }
    },
    {
      "cell_type": "code",
      "source": [
        "my_set = {1, 2, 3, 4}\n",
        "my_set.remove(4)\n",
        "print(my_set)\n"
      ],
      "metadata": {
        "colab": {
          "base_uri": "https://localhost:8080/"
        },
        "id": "liqr4KRUX2aU",
        "outputId": "5a8c1d72-e51c-4ae6-9090-834c1f05631f"
      },
      "execution_count": 18,
      "outputs": [
        {
          "output_type": "stream",
          "name": "stdout",
          "text": [
            "{1, 2, 3}\n"
          ]
        }
      ]
    },
    {
      "cell_type": "markdown",
      "source": [
        "19.Write a code to find the union of two sets {1, 2, 3} and {3, 4, 5}."
      ],
      "metadata": {
        "id": "_siXc3N-X85F"
      }
    },
    {
      "cell_type": "code",
      "source": [
        "set1 = {1, 2, 3}\n",
        "set2 = {3, 4, 5 }\n",
        "union_set = set1.union(set2)\n",
        "print(union_set)\n"
      ],
      "metadata": {
        "colab": {
          "base_uri": "https://localhost:8080/"
        },
        "id": "gXGMOVsJX_Zd",
        "outputId": "68f8a11b-4e22-47f4-c016-3d8dc0551d2a"
      },
      "execution_count": 19,
      "outputs": [
        {
          "output_type": "stream",
          "name": "stdout",
          "text": [
            "{1, 2, 3, 4, 5}\n"
          ]
        }
      ]
    },
    {
      "cell_type": "markdown",
      "source": [
        "20.Write a code to find the intersection of two sets {1, 2, 3} and {2, 3, 4}."
      ],
      "metadata": {
        "id": "P98dDG3dYIHg"
      }
    },
    {
      "cell_type": "code",
      "source": [
        "set1 = {1, 2, 3}\n",
        "set2 = {2, 3, 4}\n",
        "intersection_set = set1.intersection(set2)\n",
        "print(intersection_set)\n"
      ],
      "metadata": {
        "colab": {
          "base_uri": "https://localhost:8080/"
        },
        "id": "-p_NdO7nYK13",
        "outputId": "a658a43b-6a09-4fce-81b4-3d3ffbc007c4"
      },
      "execution_count": 20,
      "outputs": [
        {
          "output_type": "stream",
          "name": "stdout",
          "text": [
            "{2, 3}\n"
          ]
        }
      ]
    },
    {
      "cell_type": "markdown",
      "source": [
        "21. Write a code to create a dictionary with the keys \"name\", \"age\", and \"city\", and print it."
      ],
      "metadata": {
        "id": "uGC3z4zdYSQJ"
      }
    },
    {
      "cell_type": "code",
      "source": [
        "my_dict = {\n",
        "    \"name\": \"Younis\",\n",
        "    \"age\": 27,\n",
        "    \"city\": \"Srinagar\"\n",
        "}\n",
        "print(my_dict)\n"
      ],
      "metadata": {
        "colab": {
          "base_uri": "https://localhost:8080/"
        },
        "id": "3xpiIzIhYWN-",
        "outputId": "37c80be3-107c-4654-d38e-d98d1f9fcb3a"
      },
      "execution_count": 23,
      "outputs": [
        {
          "output_type": "stream",
          "name": "stdout",
          "text": [
            "{'name': 'Younis', 'age': 27, 'city': 'Srinagar'}\n"
          ]
        }
      ]
    },
    {
      "cell_type": "markdown",
      "source": [
        "22.Write a code to add a new key-value pair \"country\": \"INDIA\" to the dictionary {'name': 'younis', 'age': 25}."
      ],
      "metadata": {
        "id": "d7qac_n-YaSv"
      }
    },
    {
      "cell_type": "code",
      "source": [
        "my_dict = {'name': 'younis', 'age': 25}\n",
        "my_dict['country'] = 'INDIA'\n",
        "print(my_dict)\n"
      ],
      "metadata": {
        "colab": {
          "base_uri": "https://localhost:8080/"
        },
        "id": "yJBaMjE9YsI-",
        "outputId": "fd8bea43-4a06-4d16-d33f-ca9d0f6acf65"
      },
      "execution_count": 24,
      "outputs": [
        {
          "output_type": "stream",
          "name": "stdout",
          "text": [
            "{'name': 'younis', 'age': 25, 'country': 'INDIA'}\n"
          ]
        }
      ]
    },
    {
      "cell_type": "markdown",
      "source": [
        "23. Write a code to access the value associated with the key \"name\" in the dictionary {'name': 'younid', 'age': 27}"
      ],
      "metadata": {
        "id": "Y4s5zYkLY6g1"
      }
    },
    {
      "cell_type": "code",
      "source": [
        "my_dict = {'name': 'younis', 'age': 27}\n",
        "name_value = my_dict['name']\n",
        "print(name_value)\n",
        "\n"
      ],
      "metadata": {
        "colab": {
          "base_uri": "https://localhost:8080/"
        },
        "id": "f_uyhcX_ZEi5",
        "outputId": "be313006-3f44-4f4c-9c40-16b6ee903830"
      },
      "execution_count": 25,
      "outputs": [
        {
          "output_type": "stream",
          "name": "stdout",
          "text": [
            "younis\n"
          ]
        }
      ]
    },
    {
      "cell_type": "markdown",
      "source": [
        "24.Write a code to remove the key \"age\" from the dictionary {'name': 'Younis', 'age': 27, 'city': 'Srinagar'}."
      ],
      "metadata": {
        "id": "1fFBYnkvZW82"
      }
    },
    {
      "cell_type": "code",
      "source": [
        "my_dict = {'name': 'Younis', 'age': 27, 'city': 'Srinagar'}\n",
        "del my_dict['age']\n",
        "print(my_dict)\n"
      ],
      "metadata": {
        "colab": {
          "base_uri": "https://localhost:8080/"
        },
        "id": "sZo5kNyyZhxP",
        "outputId": "b6aea4fb-211e-4147-efc4-ac2b80387b85"
      },
      "execution_count": 26,
      "outputs": [
        {
          "output_type": "stream",
          "name": "stdout",
          "text": [
            "{'name': 'Younis', 'city': 'Srinagar'}\n"
          ]
        }
      ]
    },
    {
      "cell_type": "markdown",
      "source": [
        "25. Write a code to check if the key \"city\" exists in the dictionary {'name': 'Younis', 'city': 'Srinagar'}."
      ],
      "metadata": {
        "id": "pkaALUhWZnIB"
      }
    },
    {
      "cell_type": "code",
      "source": [
        "my_dict = {'name': 'Younis', 'city': 'Srinagar'}\n",
        "if 'city' in my_dict:\n",
        "    print(\"The key 'city' exists in the dictionary.\")\n",
        "else:\n",
        "    print(\"The key 'city' does not exist in the dictionary.\")\n"
      ],
      "metadata": {
        "colab": {
          "base_uri": "https://localhost:8080/"
        },
        "id": "UUlZTCUjZtKu",
        "outputId": "4486a96b-d6ca-4a00-c0f3-2a24a423e2f8"
      },
      "execution_count": 27,
      "outputs": [
        {
          "output_type": "stream",
          "name": "stdout",
          "text": [
            "The key 'city' exists in the dictionary.\n"
          ]
        }
      ]
    },
    {
      "cell_type": "markdown",
      "source": [
        "26.Write a code to create a list, a tuple, and a dictionary, and print them all"
      ],
      "metadata": {
        "id": "81l712ouZyhB"
      }
    },
    {
      "cell_type": "code",
      "source": [
        "# Create a list\n",
        "my_list = [1, 2, 3, 4, 5]\n",
        "\n",
        "# Create a tuple\n",
        "my_tuple = (10, 20, 30, 40, 50)\n",
        "\n",
        "# Create a dictionary\n",
        "my_dict = {'name': 'Younis', 'age': 28, 'city': 'Budgam'}\n",
        "\n",
        "# Print the list, tuple, and dictionary\n",
        "print(\"List:\", my_list)\n",
        "print(\"Tuple:\", my_tuple)\n",
        "print(\"Dictionary:\", my_dict)\n"
      ],
      "metadata": {
        "colab": {
          "base_uri": "https://localhost:8080/"
        },
        "id": "kd5Uj7QrZ01u",
        "outputId": "dfd86761-34b5-4548-c593-1fbbcd4381f0"
      },
      "execution_count": 28,
      "outputs": [
        {
          "output_type": "stream",
          "name": "stdout",
          "text": [
            "List: [1, 2, 3, 4, 5]\n",
            "Tuple: (10, 20, 30, 40, 50)\n",
            "Dictionary: {'name': 'Younis', 'age': 28, 'city': 'Budgam'}\n"
          ]
        }
      ]
    },
    {
      "cell_type": "markdown",
      "source": [
        "27.Write a code to create a list of 5 random numbers between 1 and 100, sort it in ascending order, and print the\n",
        "result.(replaced)"
      ],
      "metadata": {
        "id": "sgGREAaYaCtr"
      }
    },
    {
      "cell_type": "code",
      "source": [
        "import random\n",
        "random_numbers = [random.randint(1, 100) for _ in range(5)]\n",
        "random_numbers.sort()\n",
        "print(random_numbers)\n"
      ],
      "metadata": {
        "colab": {
          "base_uri": "https://localhost:8080/"
        },
        "id": "rU6rqee4aFbA",
        "outputId": "0fba5ab2-757e-4772-b132-6df50d701e0b"
      },
      "execution_count": 29,
      "outputs": [
        {
          "output_type": "stream",
          "name": "stdout",
          "text": [
            "[2, 19, 69, 80, 92]\n"
          ]
        }
      ]
    },
    {
      "cell_type": "markdown",
      "source": [
        "28.Write a code to create a list with strings and print the element at the third index"
      ],
      "metadata": {
        "id": "frMFAyrJaOHu"
      }
    },
    {
      "cell_type": "code",
      "source": [
        "my_list = [\"apple\", \"banana\", \"cherry\", \"date\", \"elderberry\"]\n",
        "print(my_list[3])\n"
      ],
      "metadata": {
        "colab": {
          "base_uri": "https://localhost:8080/"
        },
        "id": "CXrUK1vWaVk4",
        "outputId": "825848ea-a6f4-4069-ef7e-4b7bcc059ece"
      },
      "execution_count": 30,
      "outputs": [
        {
          "output_type": "stream",
          "name": "stdout",
          "text": [
            "date\n"
          ]
        }
      ]
    },
    {
      "cell_type": "markdown",
      "source": [
        "29. Write a code to combine two dictionaries into one and print the result"
      ],
      "metadata": {
        "id": "GrLDDgCtacM3"
      }
    },
    {
      "cell_type": "code",
      "source": [
        "# Define two dictionaries\n",
        "dict1 = {'name': 'Alice', 'age': 30}\n",
        "dict2 = {'city': 'New York', 'country': 'USA'}\n",
        "\n",
        "# Combine the dictionaries using update()\n",
        "dict1.update(dict2)\n",
        "\n",
        "# Print the combined dictionary\n",
        "print(dict1)\n"
      ],
      "metadata": {
        "colab": {
          "base_uri": "https://localhost:8080/"
        },
        "id": "NHxWSqXOaekt",
        "outputId": "9403ca59-4c48-43c3-f2e9-cff8aa78856b"
      },
      "execution_count": 31,
      "outputs": [
        {
          "output_type": "stream",
          "name": "stdout",
          "text": [
            "{'name': 'Alice', 'age': 30, 'city': 'New York', 'country': 'USA'}\n"
          ]
        }
      ]
    },
    {
      "cell_type": "markdown",
      "source": [
        "30.Write a code to convert a list of strings into a set."
      ],
      "metadata": {
        "id": "yVfCdassah-G"
      }
    },
    {
      "cell_type": "code",
      "source": [
        "# Create a list of strings\n",
        "my_list = [\"apple\", \"banana\", \"cherry\", \"apple\", \"date\"]\n",
        "my_set = set(my_list)\n",
        "print(my_set)\n"
      ],
      "metadata": {
        "colab": {
          "base_uri": "https://localhost:8080/"
        },
        "id": "85240jU3akWK",
        "outputId": "c7986296-aa51-4713-f251-7d77d56b7cb2"
      },
      "execution_count": 32,
      "outputs": [
        {
          "output_type": "stream",
          "name": "stdout",
          "text": [
            "{'cherry', 'banana', 'apple', 'date'}\n"
          ]
        }
      ]
    }
  ]
}